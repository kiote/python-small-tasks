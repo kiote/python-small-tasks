{
 "cells": [
  {
   "cell_type": "code",
   "execution_count": 88,
   "metadata": {
    "collapsed": false
   },
   "outputs": [
    {
     "data": {
      "text/plain": [
       "[1, 31, 3, 49, 68, 83, 19, 50, 43, 23, 97]"
      ]
     },
     "execution_count": 88,
     "metadata": {},
     "output_type": "execute_result"
    }
   ],
   "source": [
    "import random\n",
    "# array = [a for a in random.sample(range(100), 10)]\n",
    "array = [1, 31, 3, 49, 68, 83, 19, 50, 43, 23, 97]\n",
    "array"
   ]
  },
  {
   "cell_type": "code",
   "execution_count": 89,
   "metadata": {
    "collapsed": false
   },
   "outputs": [],
   "source": [
    "for j, a in enumerate(array):\n",
    "    # classical algorithm starting from second array element \n",
    "    if j == 0:\n",
    "        continue\n",
    "    # classical alg. saves array[j] to \"key\" var: key = array[j]\n",
    "    # to be able to reassign it\n",
    "    # but for us key is already in \"a\" variable\n",
    "    \n",
    "    # Insert array[j] into the sorted sequence array[0..j-1]\n",
    "    i = j - 1\n",
    "    while (i >= 0) and (array[i] < a):\n",
    "        array[i+1] = array[i]\n",
    "        i = i - 1\n",
    "    array[i+1] = a\n",
    "#     if j == 6:\n",
    "#         break\n",
    "    "
   ]
  },
  {
   "cell_type": "code",
   "execution_count": 90,
   "metadata": {
    "collapsed": false
   },
   "outputs": [
    {
     "data": {
      "text/plain": [
       "[97, 83, 68, 50, 49, 43, 31, 23, 19, 3, 1]"
      ]
     },
     "execution_count": 90,
     "metadata": {},
     "output_type": "execute_result"
    }
   ],
   "source": [
    "array"
   ]
  }
 ],
 "metadata": {
  "kernelspec": {
   "display_name": "Python 3",
   "language": "python",
   "name": "python3"
  },
  "language_info": {
   "codemirror_mode": {
    "name": "ipython",
    "version": 3
   },
   "file_extension": ".py",
   "mimetype": "text/x-python",
   "name": "python",
   "nbconvert_exporter": "python",
   "pygments_lexer": "ipython3",
   "version": "3.5.1"
  }
 },
 "nbformat": 4,
 "nbformat_minor": 0
}
